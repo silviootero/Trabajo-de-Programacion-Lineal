{
  "cells": [
    {
      "cell_type": "markdown",
      "metadata": {
        "colab_type": "text",
        "id": "view-in-github"
      },
      "source": [
        "<a href=\"https://colab.research.google.com/github/silviootero/Trabajo-de-Programacion-Lineal/blob/main/M%C3%A9todo_Simplex_revisado.ipynb\" target=\"_parent\"><img src=\"https://colab.research.google.com/assets/colab-badge.svg\" alt=\"Open In Colab\"/></a>"
      ]
    },
    {
      "cell_type": "markdown",
      "metadata": {
        "id": "oiBWubXtMOAx"
      },
      "source": [
        "**PRIMER BOCETO DEL CÓDIGO**"
      ]
    },
    {
      "cell_type": "code",
      "execution_count": 1,
      "metadata": {
        "id": "1eFjUoKBtIU3"
      },
      "outputs": [
        {
          "ename": "SyntaxError",
          "evalue": "invalid syntax (2538087923.py, line 15)",
          "output_type": "error",
          "traceback": [
            "\u001b[1;36m  Cell \u001b[1;32mIn[1], line 15\u001b[1;36m\u001b[0m\n\u001b[1;33m    def graphical_method(int maxim):\u001b[0m\n\u001b[1;37m                             ^\u001b[0m\n\u001b[1;31mSyntaxError\u001b[0m\u001b[1;31m:\u001b[0m invalid syntax\n"
          ]
        }
      ],
      "source": [
        "import numpy as np\n",
        "\n",
        "class Simplex:\n",
        "    def __init__(self, tableau):\n",
        "        self.tableau = tableau\n",
        "\n",
        "    def solve(self):\n",
        "        # Implementar la lógica para resolver el problema de programación lineal utilizando el método simplex revisado\n",
        "        pass\n",
        "\n",
        "    def display_solution(self):\n",
        "        # Implementar la lógica para mostrar la solución paso a paso\n",
        "        pass\n",
        "\n",
        "    def graphical_method(self, maxim, resultado, c):\n",
        "        # Implementar el método gráfico para problemas de dos variables\n",
        "        if maxim == 0:\n",
        "\n",
        "          i = resultado / c[1]\n",
        "          j = resultado / c[0]\n",
        "\n",
        "          return i, j\n",
        "        elif maxim == 1:\n",
        "            return 1\n",
        "        pass\n",
        "\n",
        "\n",
        "    def sensitivity_analysis(self):\n",
        "        # Implementar el análisis de sensibilidad\n",
        "        pass\n",
        "\n",
        "# Ejemplo de uso\n",
        "if __name__ == \"__main__\":\n",
        "    resultado = 3\n",
        "    maxim = 0\n",
        "    # Crear un objeto Simplex con el tableau del problema\n",
        "    tableau = np.array([[1, -1, 1, 0, 0, 4],\n",
        "                        [2,  3, 0, 1, 0, 12],\n",
        "                        [3,  1, 0, 0, 1, 18],\n",
        "                        [-4, -3, 0, 0, 0, 0]])  # El tableau debe estar en forma aumentada\n",
        "    simplex_solver = Simplex(tableau)\n",
        "\n",
        "    # Resolver el problema de programación lineal\n",
        "    solution = simplex_solver.solve()\n",
        "\n",
        "    # Mostrar la solución paso a paso\n",
        "    simplex_solver.display_solution()\n",
        "\n",
        "    # Realizar el método gráfico (solo para problemas con dos variables)\n",
        "    x1, x2 = simplex_solver.graphical_method(maxim, resultado, c)\n",
        "\n",
        "    # Realizar el análisis de sensibilidad\n",
        "    simplex_solver.sensitivity_analysis()\n",
        "\n",
        "\n",
        "\n",
        "    grafico(resultado, x1, x2, A, c, b, optY)\n",
        "    print(x1, x2)\n",
        "\n"
      ]
    },
    {
      "cell_type": "code",
      "execution_count": null,
      "metadata": {},
      "outputs": [],
      "source": [
        "def funcion(x1, x2):\n",
        "  return 3 * x1 + 5 * x2"
      ]
    },
    {
      "cell_type": "code",
      "execution_count": null,
      "metadata": {},
      "outputs": [],
      "source": [
        "import numpy as np\n",
        "import matplotlib.pyplot as plt\n",
        "\n",
        "\n",
        "def grafico(resultado, x1, x2):\n",
        "  a, b, c = 3, 2, 5\n",
        "\n",
        "  x = np.linspace(0, x1, 100)   \n",
        "\n",
        "  y = (resultado - a * x) / b\n",
        "  z = (resultado - a * x) / c\n",
        "  z2 = ((resultado + 4) - a * x) / c\n",
        "\n",
        "\n",
        "  # Plot the line\n",
        "  \n",
        "  fig, ax = plt.subplots()\n",
        "  ax.plot(x, y, label=f\"{a}x + {b}y = {resultado}\")\n",
        "  ax.plot(x, z, label=f\"{a}x + {c}z = {resultado}\")\n",
        "  ax.plot(x, z2, label=f\"{a}x + {c}z = {resultado + 4}\")\n",
        "  ax.axvline(4, color='red', linestyle='--', label='x = 4')\n",
        "  ax.axhline(6, color='red', linestyle='--', label='y = 6')\n",
        "\n",
        "  plt.xlabel('x')\n",
        "  plt.ylabel('y')\n",
        "  plt.title(f\"Grafico de {a}x + {b}y = {resultado}\")\n",
        "  plt.grid(True)\n",
        "  plt.legend()\n",
        "  plt.show()"
      ]
    },
    {
      "cell_type": "markdown",
      "metadata": {
        "id": "wmzathBzMbhn"
      },
      "source": [
        "**FORMULACIÓN DEL MÉTODO SIMPLEX**"
      ]
    },
    {
      "cell_type": "code",
      "execution_count": null,
      "metadata": {
        "id": "zqd8YfReuWKp"
      },
      "outputs": [],
      "source": [
        "def crear_matriz_simplex_aumentada(datos):\n",
        "    # Transforma el problema a la forma estándar y crea la matriz simplex aumentada\n",
        "\n",
        "def identificar_variable_pivote_avanzada(matriz_simplex):\n",
        "    # Considera variables artificiales y de holgura para seleccionar la variable pivote\n",
        "\n",
        "def verificar_optimalidad_avanzada(matriz_simplex):\n",
        "    # Verifica si la solución es óptima considerando variables artificiales y de holgura\n",
        "\n",
        "# Lectura y transformación del problema\n",
        "datos = leer_datos_problema()\n",
        "matriz_simplex_aumentada = crear_matriz_simplex_aumentada(datos)\n",
        "\n",
        "# Iteración del método simplex\n",
        "while True:\n",
        "    var_entrada, var_salida = identificar_variable_pivote_avanzada(matriz_simplex_aumentada)\n",
        "\n",
        "    if verificar_optimalidad_avanzada(matriz_simplex_aumentada):\n",
        "        break\n",
        "\n",
        "    realizar_pivotacion(matriz_simplex_aumentada, var_entrada, var_salida)\n",
        "\n",
        "# Mostrar la solución óptima\n",
        "mostrar_solucion(matriz_simplex_aumentada)\n"
      ]
    },
    {
      "cell_type": "markdown",
      "metadata": {
        "id": "IcS87nUTMon2"
      },
      "source": [
        "EJEMPLO CORTO"
      ]
    },
    {
      "cell_type": "code",
      "execution_count": 2,
      "metadata": {
        "colab": {
          "base_uri": "https://localhost:8080/"
        },
        "id": "pSi14WKwG2Dc",
        "outputId": "d7e2b4e6-ed8a-47cf-d5d2-dcfdcd34d052"
      },
      "outputs": [
        {
          "name": "stdout",
          "output_type": "stream",
          "text": [
            "Solución utilizando método Simplex Revisado:\n",
            "        message: Optimization terminated successfully. (HiGHS Status 7: Optimal)\n",
            "        success: True\n",
            "         status: 0\n",
            "            fun: -12.0\n",
            "              x: [ 0.000e+00  4.000e+00]\n",
            "            nit: 0\n",
            "          lower:  residual: [ 0.000e+00  4.000e+00]\n",
            "                 marginals: [ 1.000e+00  0.000e+00]\n",
            "          upper:  residual: [       inf        inf]\n",
            "                 marginals: [ 0.000e+00  0.000e+00]\n",
            "          eqlin:  residual: [ 0.000e+00]\n",
            "                 marginals: [-3.000e+00]\n",
            "        ineqlin:  residual: [ 1.000e+00]\n",
            "                 marginals: [-0.000e+00]\n",
            " mip_node_count: 0\n",
            " mip_dual_bound: 0.0\n",
            "        mip_gap: 0.0\n"
          ]
        }
      ],
      "source": [
        "import numpy as np\n",
        "from scipy.optimize import linprog\n",
        "\n",
        "# Definición del problema de programación lineal\n",
        "c = [-2, -3]  # Coeficientes de la función objetivo a minimizar\n",
        "A_eq = [[1, 1]]  # Coeficientes de las restricciones de igualdad\n",
        "b_eq = [4]  # Límites de las restricciones de igualdad\n",
        "A_ub = [[2, 1]]  # Coeficientes de las restricciones de desigualdad\n",
        "b_ub = [5]  # Límites de las restricciones de desigualdad\n",
        "\n",
        "# Resolución del problema utilizando el método simplex revisado\n",
        "res = linprog(c, A_eq=A_eq, b_eq=b_eq, A_ub=A_ub, b_ub=b_ub, method='highs')\n",
        "print(\"Solución utilizando método Simplex Revisado:\")\n",
        "print(res)\n"
      ]
    },
    {
      "cell_type": "markdown",
      "metadata": {
        "id": "CHyigfhZMtsO"
      },
      "source": [
        "**ESTRUCTURA MEJOR ESTABLECIDA**"
      ]
    },
    {
      "cell_type": "markdown",
      "metadata": {
        "id": "UVGCP1JnTvH1"
      },
      "source": [
        "Z = 3x1 + 2x2"
      ]
    },
    {
      "cell_type": "markdown",
      "metadata": {
        "id": "m9EPwoWzTIlL"
      },
      "source": [
        "\n",
        "*   2x1 + x2 ≤ 4\n",
        "*   x1 + 2x2 ≤ 6\n",
        "*   x1 ≥ 0\n",
        "*   x2 ≥ 0"
      ]
    },
    {
      "cell_type": "code",
      "execution_count": 12,
      "metadata": {
        "colab": {
          "base_uri": "https://localhost:8080/"
        },
        "id": "AZY176nTmfyG",
        "outputId": "f62d6652-2e3a-4c37-b839-6f079c99e4b9"
      },
      "outputs": [
        {
          "name": "stdout",
          "output_type": "stream",
          "text": [
            "Solución utilizando método Simplex Revisado:\n",
            "        message: Optimization terminated successfully. (HiGHS Status 7: Optimal)\n",
            "        success: True\n",
            "         status: 0\n",
            "            fun: -7.333333333333334\n",
            "              x: [ 6.667e-01  2.667e+00]\n",
            "            nit: 2\n",
            "          lower:  residual: [ 6.667e-01  2.667e+00]\n",
            "                 marginals: [ 0.000e+00  0.000e+00]\n",
            "          upper:  residual: [       inf        inf]\n",
            "                 marginals: [ 0.000e+00  0.000e+00]\n",
            "          eqlin:  residual: []\n",
            "                 marginals: []\n",
            "        ineqlin:  residual: [ 0.000e+00  0.000e+00]\n",
            "                 marginals: [-1.333e+00 -3.333e-01]\n",
            " mip_node_count: 0\n",
            " mip_dual_bound: 0.0\n",
            "        mip_gap: 0.0\n"
          ]
        }
      ],
      "source": [
        "import numpy as np\n",
        "from scipy.optimize import linprog\n",
        "\n",
        "# Coeficientes de la función objetivo (negativos para convertir el problema de maximización en minimización)\n",
        "c = [-3, -2]\n",
        "\n",
        "# Coeficientes de las restricciones de desigualdad\n",
        "A_ub = [[2, 1], [1, 2]]\n",
        "\n",
        "# Límites de las restricciones de desigualdad\n",
        "b_ub = [4, 6]\n",
        "\n",
        "# Límites de las variables (x1 >= 0, x2 >= 0)\n",
        "x_bounds = (0, None)\n",
        "\n",
        "# Resolución del problema utilizando el método simplex revisado\n",
        "res = linprog(c, A_ub=A_ub, b_ub=b_ub, bounds=(x_bounds, x_bounds), method='highs')\n",
        "print(\"Solución utilizando método Simplex Revisado:\")\n",
        "print(res)\n"
      ]
    },
    {
      "cell_type": "code",
      "execution_count": 27,
      "metadata": {
        "id": "laApujO_Lzwy"
      },
      "outputs": [],
      "source": [
        "# Coeficientes de la función objetivo\n",
        "c = np.array([3, 2])\n",
        "\n",
        "# Matriz de coeficientes de las restricciones\n",
        "A = np.array([[2, 1], [1, 2]])\n",
        "\n",
        "# Términos independientes de las restricciones\n",
        "b = np.array([4, 6])"
      ]
    },
    {
      "cell_type": "code",
      "execution_count": null,
      "metadata": {},
      "outputs": [],
      "source": [
        "def get_intersections():\n",
        "    points = []\n",
        "    for i in range(len(A)):\n",
        "        for j in range(i + 1, len(A)):\n",
        "            A_sub = np.array([A[i], A[j]])\n",
        "            b_sub = np.array([b[i], b[j]])\n",
        "            try:\n",
        "                point = np.linalg.solve(A_sub, b_sub)\n",
        "                if all(point >= 0):\n",
        "                    points.append(point)\n",
        "            except np.linalg.LinAlgError:\n",
        "                pass\n",
        "    return np.array(points)"
      ]
    },
    {
      "cell_type": "code",
      "execution_count": null,
      "metadata": {},
      "outputs": [],
      "source": [
        "import numpy as np\n",
        "import matplotlib.pyplot as plt\n",
        "\n",
        "# label=f\"{c[0]}x + {c[1]}z = {resultado + (i/100)}\"\n",
        "\n",
        "def grafico(resultado, x1, x2, A, c, b, optY):\n",
        "\n",
        "  i = 0\n",
        "  x = np.linspace(0, x1, 100)\n",
        "\n",
        "  y = (b[0] - A[0][0] * x) / A[0][1]\n",
        "  y2 = (b[1] - A[1][0] * x) / A[1][1]\n",
        "  z = (resultado - c[0] * x) / c[1]\n",
        "\n",
        "  cambio = 0.25\n",
        "  rangoY = (int) (optY * 10)\n",
        "  points = get_intersections()\n",
        "\n",
        "  # Plot the line\n",
        "\n",
        "  fig, ax = plt.subplots()\n",
        "  ax.plot(x, y, label=f\"{A[0][0]}x + {A[0][1]}y = {b[0]}\")\n",
        "  ax.plot(x, y2, label=f\"{A[1][0]}x + {A[1][1]}y = {b[1]}\")\n",
        "\n",
        "\n",
        "\n",
        "  # ax.axvline(4, color='red', linestyle='--', label='x = 4')\n",
        "  # ax.axhline(6, color='red', linestyle='--', label='y = 6')\n",
        "\n",
        "  plt.xlabel('x')\n",
        "  plt.ylabel('y')\n",
        "  plt.fill_between(x, 0, y, where=(y <= y2), color='gray', alpha=0.3)\n",
        "  plt.fill_between(x, 0, y2, where=(y2 <= y), color='gray', alpha=0.3)\n",
        "  plt.scatter(points[:, 0], points[:, 1], color='red')\n",
        "\n",
        "  while True:\n",
        "    z = z + cambio\n",
        "    ax.plot(x, z, color=\"black\")\n",
        "    if np.all(z > (y2 - y)):\n",
        "        break\n",
        "\n",
        "    i = i + 1\n",
        "\n",
        "  plt.title(f\"Grafico de {A[0][0]}x + {A[0][1]}y = {resultado}\")\n",
        "  plt.grid(True)\n",
        "  plt.legend()\n",
        "  plt.show()"
      ]
    },
    {
      "cell_type": "code",
      "execution_count": null,
      "metadata": {},
      "outputs": [],
      "source": [
        "points = get_intersections()\n",
        "points"
      ]
    },
    {
      "cell_type": "code",
      "execution_count": 28,
      "metadata": {
        "id": "KfVIQD-iNQM2"
      },
      "outputs": [],
      "source": [
        "def crear_matriz_simplex(A, b, c):\n",
        "  \"\"\"\n",
        "  Crea la matriz simplex inicial a partir de los coeficientes de la función objetivo,\n",
        "  las restricciones y las variables.\n",
        "\n",
        "  Args:\n",
        "    A: Matriz de coeficientes de las restricciones (m x n).\n",
        "    b: Vector de términos independientes de las restricciones (m x 1).\n",
        "    c: Vector de coeficientes de la función objetivo (n x 1).\n",
        "\n",
        "  Returns:\n",
        "    matriz_simplex: Matriz simplex inicial aumentada (m x n+1).\n",
        "  \"\"\"\n",
        "  n = A.shape[1]  # Número de variables\n",
        "  m = A.shape[0]  # Número de restricciones\n",
        "\n",
        "  # Crea la matriz simplex aumentada\n",
        "  matriz_simplex = np.zeros((m, n + 1))\n",
        "  matriz_simplex[:, :n] = A\n",
        "  matriz_simplex[:, n] = -b\n",
        "  matriz_simplex = np.vstack((matriz_simplex, np.hstack((c, 0))))\n",
        "\n",
        "  # Añadir variables artificiales (forma corregida)\n",
        "  for i in range(m):\n",
        "    if A[i, :].sum() == 0:\n",
        "      matriz_simplex = np.vstack((matriz_simplex, np.hstack((np.zeros(n + 1), -1))))\n",
        "\n",
        "  # Añadir variables de holgura (si es necesario)\n",
        "  # ... (código para añadir variables de holgura)\n",
        "\n",
        "  return matriz_simplex\n",
        "\n"
      ]
    },
    {
      "cell_type": "code",
      "execution_count": null,
      "metadata": {
        "id": "Zdujrv-JQWWw"
      },
      "outputs": [],
      "source": [
        "\"\"\"\n",
        "#EN CASO DE QUE LA DE ARRIBA FALLE ESTA ES UNA ALTERNATIVA\n",
        "import numpy as np\n",
        "\n",
        "def crear_matriz_simplex(A, b, c):\n",
        "  \"\"\"\n",
        "  Crea la matriz simplex inicial a partir de los coeficientes de la función objetivo,\n",
        "  las restricciones y las variables.\n",
        "\n",
        "  Args:\n",
        "    A: Matriz de coeficientes de las restricciones (m x n).\n",
        "    b: Vector de términos independientes de las restricciones (m x 1).\n",
        "    c: Vector de coeficientes de la función objetivo (n x 1).\n",
        "\n",
        "  Returns:\n",
        "    matriz_simplex: Matriz simplex inicial aumentada (m x n+1).\n",
        "  \"\"\"\n",
        "  n = A.shape[1]  # Número de variables\n",
        "  m = A.shape[0]  # Número de restricciones\n",
        "\n",
        "  # Crea la matriz simplex aumentada\n",
        "  matriz_simplex = np.zeros((m, n + 1))\n",
        "  matriz_simplex[:, :n] = A\n",
        "  matriz_simplex[:, n] = -b\n",
        "  matriz_simplex = np.vstack((matriz_simplex, np.hstack((c, 0))))\n",
        "\n",
        "  # Añadir variables artificiales (forma corregida)\n",
        "  for i in range(m):\n",
        "    if A[i, :].sum() == 0:\n",
        "      matriz_simplex = np.vstack((matriz_simplex, np.hstack((np.zeros(n + 1), -1))))\n",
        "\n",
        "  # Añadir variables de holgura (si es necesario)\n",
        "  for i in\n",
        "\"\"\""
      ]
    },
    {
      "cell_type": "code",
      "execution_count": 29,
      "metadata": {
        "colab": {
          "base_uri": "https://localhost:8080/"
        },
        "id": "WIiHXBmnL0pW",
        "outputId": "5c461f7d-c00c-40e8-c2e1-c102d0f023ed"
      },
      "outputs": [
        {
          "name": "stdout",
          "output_type": "stream",
          "text": [
            "[[ 2.  1. -4.]\n",
            " [ 1.  2. -6.]\n",
            " [ 3.  2.  0.]]\n"
          ]
        }
      ],
      "source": [
        "matriz_simplex = crear_matriz_simplex(A, b, c)\n",
        "print(matriz_simplex)\n"
      ]
    },
    {
      "cell_type": "code",
      "execution_count": 30,
      "metadata": {
        "id": "qJxrk4QLRFbn"
      },
      "outputs": [],
      "source": [
        "def identificar_variable_pivote(matriz_simplex):\n",
        "  \"\"\"\n",
        "  Identifica la variable de entrada básica que debe salir de la base y la variable\n",
        "  de no-entrada básica que debe entrar.\n",
        "\n",
        "  Args:\n",
        "    matriz_simplex: Matriz simplex actual (m x n+1).\n",
        "\n",
        "  Returns:\n",
        "    var_entrada: Índice de la variable de entrada básica que debe salir de la base.\n",
        "    var_no_entrada: Índice de la variable de no-entrada básica que debe entrar.\n",
        "  \"\"\"\n",
        "  # Obtiene el índice de la fila con el ratio de costo reducido más negativo\n",
        "  var_no_entrada = np.argmin(matriz_simplex[-1, :-1])\n",
        "\n",
        "  # Si todos los ratios de costo reducido son no positivos, ya se encontró la solución óptima\n",
        "  if min(matriz_simplex[-1, :-1]) >= 0:\n",
        "    return None, None\n",
        "\n",
        "  # Identifica la variable de entrada básica que debe salir de la base\n",
        "  ratio_min = np.inf\n",
        "  var_entrada = None\n",
        "  for i in range(matriz_simplex.shape[0] - 1):\n",
        "    if matriz_simplex[i, var_no_entrada] > 0:\n",
        "      ratio = matriz_simplex[i, -1] / matriz_simplex[i, var_no_entrada]\n",
        "      if ratio < ratio_min:\n",
        "        ratio_min = ratio\n",
        "        var_entrada = i\n",
        "\n",
        "  return var_entrada, var_no_entrada\n"
      ]
    },
    {
      "cell_type": "code",
      "execution_count": 31,
      "metadata": {
        "id": "NDiiATAWRUlO"
      },
      "outputs": [],
      "source": [
        "def verificar_optimalidad(matriz_simplex):\n",
        "  \"\"\"\n",
        "  Verifica si la solución actual es óptima.\n",
        "\n",
        "  Args:\n",
        "    matriz_simplex: Matriz simplex actual (m x n+1).\n",
        "\n",
        "  Returns:\n",
        "    True si la solución es óptima, False en caso contrario.\n",
        "  \"\"\"\n",
        "  # Si todos los ratios de costo reducido son no positivos, ya se encontró la solución óptima\n",
        "  if min(matriz_simplex[-1, :-1]) >= 0:\n",
        "    return True\n",
        "  else:\n",
        "    return False\n"
      ]
    },
    {
      "cell_type": "code",
      "execution_count": 32,
      "metadata": {
        "id": "U1fBtwBURn2Y"
      },
      "outputs": [],
      "source": [
        "def realizar_pivotacion(matriz_simplex, var_entrada, var_no_entrada):\n",
        "  \"\"\"\n",
        "  Realiza la operación de pivotación en el método simplex.\n",
        "\n",
        "  Args:\n",
        "    matriz_simplex: Matriz simplex actual (m x n+1).\n",
        "    var_entrada: Índice de la variable de entrada básica que debe salir de la base.\n",
        "    var_no_entrada: Índice de la variable de no-entrada básica que debe entrar en la base.\n",
        "  \"\"\"\n",
        "  # Normaliza la fila del pivote (divide la fila por el elemento pivote)\n",
        "  matriz_simplex[var_entrada] /= matriz_simplex[var_entrada, var_no_entrada]\n",
        "\n",
        "  # Elimina los demás elementos en la columna de la variable de entrada\n",
        "  for i in range(matriz_simplex.shape[0]):\n",
        "    if i != var_entrada:\n",
        "      matriz_simplex[i] -= matriz_simplex[i, var_no_entrada] * matriz_simplex[var_entrada]\n"
      ]
    },
    {
      "cell_type": "code",
      "execution_count": 33,
      "metadata": {
        "colab": {
          "base_uri": "https://localhost:8080/"
        },
        "id": "DIWNB9jAL-lw",
        "outputId": "c2c3bcb6-76d9-4b00-9063-e6f472468aca"
      },
      "outputs": [
        {
          "name": "stdout",
          "output_type": "stream",
          "text": [
            "Solución óptima encontrada.\n"
          ]
        }
      ],
      "source": [
        "while True:\n",
        "  var_entrada, var_no_entrada = identificar_variable_pivote(matriz_simplex)\n",
        "\n",
        "  if var_entrada is None:\n",
        "    break\n",
        "\n",
        "  realizar_pivotacion(matriz_simplex, var_entrada, var_no_entrada)\n",
        "  print(matriz_simplex)\n",
        "\n",
        "# Verificar la optimalidad\n",
        "if verificar_optimalidad(matriz_simplex):\n",
        "  print(\"Solución óptima encontrada.\")\n",
        "else:\n",
        "  print(\"No se encontró una solución óptima.\")\n"
      ]
    },
    {
      "cell_type": "code",
      "execution_count": 34,
      "metadata": {
        "colab": {
          "base_uri": "https://localhost:8080/"
        },
        "id": "cuFNV750MFU9",
        "outputId": "9e0dcaf2-6fb0-4a17-eb5b-2d1f4e4930e0"
      },
      "outputs": [
        {
          "name": "stdout",
          "output_type": "stream",
          "text": [
            "Variables básicas: [0, 1]\n",
            "Valores básicos: [-4.0, -6.0]\n",
            "Valor óptimo de Z: 0.0\n"
          ]
        }
      ],
      "source": [
        "def mostrar_solucion(matriz_simplex):\n",
        "  \"\"\"\n",
        "  Muestra la solución óptima del problema.\n",
        "\n",
        "  Args:\n",
        "    matriz_simplex: Matriz simplex final (m x n+1).\n",
        "  \"\"\"\n",
        "  variables_basicas = []\n",
        "  valores_basicos = []\n",
        "\n",
        "  # Identificar las variables básicas y sus valores\n",
        "  for i in range(matriz_simplex.shape[0]):\n",
        "    if abs(matriz_simplex[i, -1]) > 1e-6:\n",
        "      variables_basicas.append(i)\n",
        "      valores_basicos.append(matriz_simplex[i, -1])\n",
        "\n",
        "  # Mostrar la solución\n",
        "  print(\"Variables básicas:\", variables_basicas)\n",
        "  print(\"Valores básicos:\", valores_basicos)\n",
        "  print(\"Valor óptimo de Z:\", matriz_simplex[-1, -1])\n",
        "\n",
        "mostrar_solucion(matriz_simplex)\n"
      ]
    }
  ],
  "metadata": {
    "colab": {
      "include_colab_link": true,
      "provenance": []
    },
    "kernelspec": {
      "display_name": "Python 3",
      "name": "python3"
    },
    "language_info": {
      "name": "python"
    }
  },
  "nbformat": 4,
  "nbformat_minor": 0
}
