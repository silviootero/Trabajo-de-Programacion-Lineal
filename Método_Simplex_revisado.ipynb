{
  "nbformat": 4,
  "nbformat_minor": 0,
  "metadata": {
    "colab": {
      "provenance": [],
      "include_colab_link": true
    },
    "kernelspec": {
      "name": "python3",
      "display_name": "Python 3"
    },
    "language_info": {
      "name": "python"
    }
  },
  "cells": [
    {
      "cell_type": "markdown",
      "metadata": {
        "id": "view-in-github",
        "colab_type": "text"
      },
      "source": [
        "<a href=\"https://colab.research.google.com/github/silviootero/Trabajo-de-Programacion-Lineal/blob/main/M%C3%A9todo_Simplex_revisado.ipynb\" target=\"_parent\"><img src=\"https://colab.research.google.com/assets/colab-badge.svg\" alt=\"Open In Colab\"/></a>"
      ]
    },
    {
      "cell_type": "markdown",
      "source": [
        "**PRIMER BOCETO DEL CÓDIGO**"
      ],
      "metadata": {
        "id": "oiBWubXtMOAx"
      }
    },
    {
      "cell_type": "code",
      "execution_count": null,
      "metadata": {
        "id": "1eFjUoKBtIU3"
      },
      "outputs": [],
      "source": [
        "import numpy as np\n",
        "\n",
        "class Simplex:\n",
        "    def __init__(self, tableau):\n",
        "        self.tableau = tableau\n",
        "\n",
        "    def solve(self):\n",
        "        # Implementar la lógica para resolver el problema de programación lineal utilizando el método simplex revisado\n",
        "        pass\n",
        "\n",
        "    def display_solution(self):\n",
        "        # Implementar la lógica para mostrar la solución paso a paso\n",
        "        pass\n",
        "\n",
        "    def graphical_method(self):\n",
        "        # Implementar el método gráfico para problemas de dos variables\n",
        "        pass\n",
        "\n",
        "    def sensitivity_analysis(self):\n",
        "        # Implementar el análisis de sensibilidad\n",
        "        pass\n",
        "\n",
        "# Ejemplo de uso\n",
        "if __name__ == \"__main__\":\n",
        "    # Crear un objeto Simplex con el tableau del problema\n",
        "    tableau = np.array([[1, -1, 1, 0, 0, 4],\n",
        "                        [2,  3, 0, 1, 0, 12],\n",
        "                        [3,  1, 0, 0, 1, 18],\n",
        "                        [-4, -3, 0, 0, 0, 0]])  # El tableau debe estar en forma aumentada\n",
        "    simplex_solver = Simplex(tableau)\n",
        "\n",
        "    # Resolver el problema de programación lineal\n",
        "    solution = simplex_solver.solve()\n",
        "\n",
        "    # Mostrar la solución paso a paso\n",
        "    simplex_solver.display_solution()\n",
        "\n",
        "    # Realizar el método gráfico (solo para problemas con dos variables)\n",
        "    simplex_solver.graphical_method()\n",
        "\n",
        "    # Realizar el análisis de sensibilidad\n",
        "    simplex_solver.sensitivity_analysis()\n"
      ]
    },
    {
      "cell_type": "markdown",
      "source": [
        "**FORMULACIÓN DEL MÉTODO SIMPLEX**"
      ],
      "metadata": {
        "id": "wmzathBzMbhn"
      }
    },
    {
      "cell_type": "code",
      "source": [
        "def crear_matriz_simplex_aumentada(datos):\n",
        "    # Transforma el problema a la forma estándar y crea la matriz simplex aumentada\n",
        "\n",
        "def identificar_variable_pivote_avanzada(matriz_simplex):\n",
        "    # Considera variables artificiales y de holgura para seleccionar la variable pivote\n",
        "\n",
        "def verificar_optimalidad_avanzada(matriz_simplex):\n",
        "    # Verifica si la solución es óptima considerando variables artificiales y de holgura\n",
        "\n",
        "# Lectura y transformación del problema\n",
        "datos = leer_datos_problema()\n",
        "matriz_simplex_aumentada = crear_matriz_simplex_aumentada(datos)\n",
        "\n",
        "# Iteración del método simplex\n",
        "while True:\n",
        "    var_entrada, var_salida = identificar_variable_pivote_avanzada(matriz_simplex_aumentada)\n",
        "\n",
        "    if verificar_optimalidad_avanzada(matriz_simplex_aumentada):\n",
        "        break\n",
        "\n",
        "    realizar_pivotacion(matriz_simplex_aumentada, var_entrada, var_salida)\n",
        "\n",
        "# Mostrar la solución óptima\n",
        "mostrar_solucion(matriz_simplex_aumentada)\n"
      ],
      "metadata": {
        "id": "zqd8YfReuWKp"
      },
      "execution_count": null,
      "outputs": []
    },
    {
      "cell_type": "markdown",
      "source": [
        "EJEMPLO CORTO"
      ],
      "metadata": {
        "id": "IcS87nUTMon2"
      }
    },
    {
      "cell_type": "code",
      "source": [
        "import numpy as np\n",
        "from scipy.optimize import linprog\n",
        "\n",
        "# Definición del problema de programación lineal\n",
        "c = [-2, -3]  # Coeficientes de la función objetivo a minimizar\n",
        "A_eq = [[1, 1]]  # Coeficientes de las restricciones de igualdad\n",
        "b_eq = [4]  # Límites de las restricciones de igualdad\n",
        "A_ub = [[2, 1]]  # Coeficientes de las restricciones de desigualdad\n",
        "b_ub = [5]  # Límites de las restricciones de desigualdad\n",
        "\n",
        "# Resolución del problema utilizando el método simplex revisado\n",
        "res = linprog(c, A_eq=A_eq, b_eq=b_eq, A_ub=A_ub, b_ub=b_ub, method='highs')\n",
        "print(\"Solución utilizando método Simplex Revisado:\")\n",
        "print(res)\n"
      ],
      "metadata": {
        "colab": {
          "base_uri": "https://localhost:8080/"
        },
        "id": "pSi14WKwG2Dc",
        "outputId": "d7e2b4e6-ed8a-47cf-d5d2-dcfdcd34d052"
      },
      "execution_count": 2,
      "outputs": [
        {
          "output_type": "stream",
          "name": "stdout",
          "text": [
            "Solución utilizando método Simplex Revisado:\n",
            "        message: Optimization terminated successfully. (HiGHS Status 7: Optimal)\n",
            "        success: True\n",
            "         status: 0\n",
            "            fun: -12.0\n",
            "              x: [ 0.000e+00  4.000e+00]\n",
            "            nit: 0\n",
            "          lower:  residual: [ 0.000e+00  4.000e+00]\n",
            "                 marginals: [ 1.000e+00  0.000e+00]\n",
            "          upper:  residual: [       inf        inf]\n",
            "                 marginals: [ 0.000e+00  0.000e+00]\n",
            "          eqlin:  residual: [ 0.000e+00]\n",
            "                 marginals: [-3.000e+00]\n",
            "        ineqlin:  residual: [ 1.000e+00]\n",
            "                 marginals: [-0.000e+00]\n",
            " mip_node_count: 0\n",
            " mip_dual_bound: 0.0\n",
            "        mip_gap: 0.0\n"
          ]
        }
      ]
    },
    {
      "cell_type": "markdown",
      "source": [
        "**ESTRUCTURA MEJOR ESTABLECIDA**"
      ],
      "metadata": {
        "id": "CHyigfhZMtsO"
      }
    },
    {
      "cell_type": "markdown",
      "source": [
        "Z = 3x1 + 2x2"
      ],
      "metadata": {
        "id": "UVGCP1JnTvH1"
      }
    },
    {
      "cell_type": "markdown",
      "source": [
        "\n",
        "*   2x1 + x2 ≤ 4\n",
        "*   x1 + 2x2 ≤ 6\n",
        "*   x1 ≥ 0\n",
        "*   x2 ≥ 0"
      ],
      "metadata": {
        "id": "m9EPwoWzTIlL"
      }
    },
    {
      "cell_type": "code",
      "source": [
        "import numpy as np\n",
        "from scipy.optimize import linprog\n",
        "\n",
        "# Coeficientes de la función objetivo (negativos para convertir el problema de maximización en minimización)\n",
        "c = [-3, -2]\n",
        "\n",
        "# Coeficientes de las restricciones de desigualdad\n",
        "A_ub = [[2, 1], [1, 2]]\n",
        "\n",
        "# Límites de las restricciones de desigualdad\n",
        "b_ub = [4, 6]\n",
        "\n",
        "# Límites de las variables (x1 >= 0, x2 >= 0)\n",
        "x_bounds = (0, None)\n",
        "\n",
        "# Resolución del problema utilizando el método simplex revisado\n",
        "res = linprog(c, A_ub=A_ub, b_ub=b_ub, bounds=(x_bounds, x_bounds), method='highs')\n",
        "print(\"Solución utilizando método Simplex Revisado:\")\n",
        "print(res)\n"
      ],
      "metadata": {
        "colab": {
          "base_uri": "https://localhost:8080/"
        },
        "id": "AZY176nTmfyG",
        "outputId": "f62d6652-2e3a-4c37-b839-6f079c99e4b9"
      },
      "execution_count": 12,
      "outputs": [
        {
          "output_type": "stream",
          "name": "stdout",
          "text": [
            "Solución utilizando método Simplex Revisado:\n",
            "        message: Optimization terminated successfully. (HiGHS Status 7: Optimal)\n",
            "        success: True\n",
            "         status: 0\n",
            "            fun: -7.333333333333334\n",
            "              x: [ 6.667e-01  2.667e+00]\n",
            "            nit: 2\n",
            "          lower:  residual: [ 6.667e-01  2.667e+00]\n",
            "                 marginals: [ 0.000e+00  0.000e+00]\n",
            "          upper:  residual: [       inf        inf]\n",
            "                 marginals: [ 0.000e+00  0.000e+00]\n",
            "          eqlin:  residual: []\n",
            "                 marginals: []\n",
            "        ineqlin:  residual: [ 0.000e+00  0.000e+00]\n",
            "                 marginals: [-1.333e+00 -3.333e-01]\n",
            " mip_node_count: 0\n",
            " mip_dual_bound: 0.0\n",
            "        mip_gap: 0.0\n"
          ]
        }
      ]
    },
    {
      "cell_type": "code",
      "source": [
        "# Coeficientes de la función objetivo\n",
        "c = np.array([3, 2])\n",
        "\n",
        "# Matriz de coeficientes de las restricciones\n",
        "A = np.array([[2, 1], [1, 2]])\n",
        "\n",
        "# Términos independientes de las restricciones\n",
        "b = np.array([4, 6])"
      ],
      "metadata": {
        "id": "laApujO_Lzwy"
      },
      "execution_count": 27,
      "outputs": []
    },
    {
      "cell_type": "code",
      "source": [
        "def crear_matriz_simplex(A, b, c):\n",
        "  \"\"\"\n",
        "  Crea la matriz simplex inicial a partir de los coeficientes de la función objetivo,\n",
        "  las restricciones y las variables.\n",
        "\n",
        "  Args:\n",
        "    A: Matriz de coeficientes de las restricciones (m x n).\n",
        "    b: Vector de términos independientes de las restricciones (m x 1).\n",
        "    c: Vector de coeficientes de la función objetivo (n x 1).\n",
        "\n",
        "  Returns:\n",
        "    matriz_simplex: Matriz simplex inicial aumentada (m x n+1).\n",
        "  \"\"\"\n",
        "  n = A.shape[1]  # Número de variables\n",
        "  m = A.shape[0]  # Número de restricciones\n",
        "\n",
        "  # Crea la matriz simplex aumentada\n",
        "  matriz_simplex = np.zeros((m, n + 1))\n",
        "  matriz_simplex[:, :n] = A\n",
        "  matriz_simplex[:, n] = -b\n",
        "  matriz_simplex = np.vstack((matriz_simplex, np.hstack((c, 0))))\n",
        "\n",
        "  # Añadir variables artificiales (forma corregida)\n",
        "  for i in range(m):\n",
        "    if A[i, :].sum() == 0:\n",
        "      matriz_simplex = np.vstack((matriz_simplex, np.hstack((np.zeros(n + 1), -1))))\n",
        "\n",
        "  # Añadir variables de holgura (si es necesario)\n",
        "  # ... (código para añadir variables de holgura)\n",
        "\n",
        "  return matriz_simplex\n",
        "\n"
      ],
      "metadata": {
        "id": "KfVIQD-iNQM2"
      },
      "execution_count": 28,
      "outputs": []
    },
    {
      "cell_type": "code",
      "source": [
        "#EN CASO DE QUE LA DE ARRIBA FALLE ESTA ES UNA ALTERNATIVA\n",
        "import numpy as np\n",
        "\n",
        "def crear_matriz_simplex(A, b, c):\n",
        "  \"\"\"\n",
        "  Crea la matriz simplex inicial a partir de los coeficientes de la función objetivo,\n",
        "  las restricciones y las variables.\n",
        "\n",
        "  Args:\n",
        "    A: Matriz de coeficientes de las restricciones (m x n).\n",
        "    b: Vector de términos independientes de las restricciones (m x 1).\n",
        "    c: Vector de coeficientes de la función objetivo (n x 1).\n",
        "\n",
        "  Returns:\n",
        "    matriz_simplex: Matriz simplex inicial aumentada (m x n+1).\n",
        "  \"\"\"\n",
        "  n = A.shape[1]  # Número de variables\n",
        "  m = A.shape[0]  # Número de restricciones\n",
        "\n",
        "  # Crea la matriz simplex aumentada\n",
        "  matriz_simplex = np.zeros((m, n + 1))\n",
        "  matriz_simplex[:, :n] = A\n",
        "  matriz_simplex[:, n] = -b\n",
        "  matriz_simplex = np.vstack((matriz_simplex, np.hstack((c, 0))))\n",
        "\n",
        "  # Añadir variables artificiales (forma corregida)\n",
        "  for i in range(m):\n",
        "    if A[i, :].sum() == 0:\n",
        "      matriz_simplex = np.vstack((matriz_simplex, np.hstack((np.zeros(n + 1), -1))))\n",
        "\n",
        "  # Añadir variables de holgura (si es necesario)\n",
        "  for i in\n"
      ],
      "metadata": {
        "id": "Zdujrv-JQWWw"
      },
      "execution_count": null,
      "outputs": []
    },
    {
      "cell_type": "code",
      "source": [
        "matriz_simplex = crear_matriz_simplex(A, b, c)\n",
        "print(matriz_simplex)\n"
      ],
      "metadata": {
        "colab": {
          "base_uri": "https://localhost:8080/"
        },
        "id": "WIiHXBmnL0pW",
        "outputId": "5c461f7d-c00c-40e8-c2e1-c102d0f023ed"
      },
      "execution_count": 29,
      "outputs": [
        {
          "output_type": "stream",
          "name": "stdout",
          "text": [
            "[[ 2.  1. -4.]\n",
            " [ 1.  2. -6.]\n",
            " [ 3.  2.  0.]]\n"
          ]
        }
      ]
    },
    {
      "cell_type": "code",
      "source": [
        "def identificar_variable_pivote(matriz_simplex):\n",
        "  \"\"\"\n",
        "  Identifica la variable de entrada básica que debe salir de la base y la variable\n",
        "  de no-entrada básica que debe entrar.\n",
        "\n",
        "  Args:\n",
        "    matriz_simplex: Matriz simplex actual (m x n+1).\n",
        "\n",
        "  Returns:\n",
        "    var_entrada: Índice de la variable de entrada básica que debe salir de la base.\n",
        "    var_no_entrada: Índice de la variable de no-entrada básica que debe entrar.\n",
        "  \"\"\"\n",
        "  # Obtiene el índice de la fila con el ratio de costo reducido más negativo\n",
        "  var_no_entrada = np.argmin(matriz_simplex[-1, :-1])\n",
        "\n",
        "  # Si todos los ratios de costo reducido son no positivos, ya se encontró la solución óptima\n",
        "  if min(matriz_simplex[-1, :-1]) >= 0:\n",
        "    return None, None\n",
        "\n",
        "  # Identifica la variable de entrada básica que debe salir de la base\n",
        "  ratio_min = np.inf\n",
        "  var_entrada = None\n",
        "  for i in range(matriz_simplex.shape[0] - 1):\n",
        "    if matriz_simplex[i, var_no_entrada] > 0:\n",
        "      ratio = matriz_simplex[i, -1] / matriz_simplex[i, var_no_entrada]\n",
        "      if ratio < ratio_min:\n",
        "        ratio_min = ratio\n",
        "        var_entrada = i\n",
        "\n",
        "  return var_entrada, var_no_entrada\n"
      ],
      "metadata": {
        "id": "qJxrk4QLRFbn"
      },
      "execution_count": 30,
      "outputs": []
    },
    {
      "cell_type": "code",
      "source": [
        "def verificar_optimalidad(matriz_simplex):\n",
        "  \"\"\"\n",
        "  Verifica si la solución actual es óptima.\n",
        "\n",
        "  Args:\n",
        "    matriz_simplex: Matriz simplex actual (m x n+1).\n",
        "\n",
        "  Returns:\n",
        "    True si la solución es óptima, False en caso contrario.\n",
        "  \"\"\"\n",
        "  # Si todos los ratios de costo reducido son no positivos, ya se encontró la solución óptima\n",
        "  if min(matriz_simplex[-1, :-1]) >= 0:\n",
        "    return True\n",
        "  else:\n",
        "    return False\n"
      ],
      "metadata": {
        "id": "NDiiATAWRUlO"
      },
      "execution_count": 31,
      "outputs": []
    },
    {
      "cell_type": "code",
      "source": [
        "def realizar_pivotacion(matriz_simplex, var_entrada, var_no_entrada):\n",
        "  \"\"\"\n",
        "  Realiza la operación de pivotación en el método simplex.\n",
        "\n",
        "  Args:\n",
        "    matriz_simplex: Matriz simplex actual (m x n+1).\n",
        "    var_entrada: Índice de la variable de entrada básica que debe salir de la base.\n",
        "    var_no_entrada: Índice de la variable de no-entrada básica que debe entrar en la base.\n",
        "  \"\"\"\n",
        "  # Normaliza la fila del pivote (divide la fila por el elemento pivote)\n",
        "  matriz_simplex[var_entrada] /= matriz_simplex[var_entrada, var_no_entrada]\n",
        "\n",
        "  # Elimina los demás elementos en la columna de la variable de entrada\n",
        "  for i in range(matriz_simplex.shape[0]):\n",
        "    if i != var_entrada:\n",
        "      matriz_simplex[i] -= matriz_simplex[i, var_no_entrada] * matriz_simplex[var_entrada]\n"
      ],
      "metadata": {
        "id": "U1fBtwBURn2Y"
      },
      "execution_count": 32,
      "outputs": []
    },
    {
      "cell_type": "code",
      "source": [
        "while True:\n",
        "  var_entrada, var_no_entrada = identificar_variable_pivote(matriz_simplex)\n",
        "\n",
        "  if var_entrada is None:\n",
        "    break\n",
        "\n",
        "  realizar_pivotacion(matriz_simplex, var_entrada, var_no_entrada)\n",
        "  print(matriz_simplex)\n",
        "\n",
        "# Verificar la optimalidad\n",
        "if verificar_optimalidad(matriz_simplex):\n",
        "  print(\"Solución óptima encontrada.\")\n",
        "else:\n",
        "  print(\"No se encontró una solución óptima.\")\n"
      ],
      "metadata": {
        "colab": {
          "base_uri": "https://localhost:8080/"
        },
        "id": "DIWNB9jAL-lw",
        "outputId": "c2c3bcb6-76d9-4b00-9063-e6f472468aca"
      },
      "execution_count": 33,
      "outputs": [
        {
          "output_type": "stream",
          "name": "stdout",
          "text": [
            "Solución óptima encontrada.\n"
          ]
        }
      ]
    },
    {
      "cell_type": "code",
      "source": [
        "def mostrar_solucion(matriz_simplex):\n",
        "  \"\"\"\n",
        "  Muestra la solución óptima del problema.\n",
        "\n",
        "  Args:\n",
        "    matriz_simplex: Matriz simplex final (m x n+1).\n",
        "  \"\"\"\n",
        "  variables_basicas = []\n",
        "  valores_basicos = []\n",
        "\n",
        "  # Identificar las variables básicas y sus valores\n",
        "  for i in range(matriz_simplex.shape[0]):\n",
        "    if abs(matriz_simplex[i, -1]) > 1e-6:\n",
        "      variables_basicas.append(i)\n",
        "      valores_basicos.append(matriz_simplex[i, -1])\n",
        "\n",
        "  # Mostrar la solución\n",
        "  print(\"Variables básicas:\", variables_basicas)\n",
        "  print(\"Valores básicos:\", valores_basicos)\n",
        "  print(\"Valor óptimo de Z:\", matriz_simplex[-1, -1])\n",
        "\n",
        "mostrar_solucion(matriz_simplex)\n"
      ],
      "metadata": {
        "colab": {
          "base_uri": "https://localhost:8080/"
        },
        "id": "cuFNV750MFU9",
        "outputId": "9e0dcaf2-6fb0-4a17-eb5b-2d1f4e4930e0"
      },
      "execution_count": 34,
      "outputs": [
        {
          "output_type": "stream",
          "name": "stdout",
          "text": [
            "Variables básicas: [0, 1]\n",
            "Valores básicos: [-4.0, -6.0]\n",
            "Valor óptimo de Z: 0.0\n"
          ]
        }
      ]
    }
  ]
}