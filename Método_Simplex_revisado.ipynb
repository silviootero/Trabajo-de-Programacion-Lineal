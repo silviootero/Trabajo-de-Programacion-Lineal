{
  "cells": [
    {
      "cell_type": "markdown",
      "metadata": {
        "colab_type": "text",
        "id": "view-in-github"
      },
      "source": [
        "<a href=\"https://colab.research.google.com/github/silviootero/Trabajo-de-Programacion-Lineal/blob/main/M%C3%A9todo_Simplex_revisado.ipynb\" target=\"_parent\"><img src=\"https://colab.research.google.com/assets/colab-badge.svg\" alt=\"Open In Colab\"/></a>"
      ]
    },
    {
      "cell_type": "code",
      "execution_count": 1,
      "metadata": {
        "id": "1eFjUoKBtIU3"
      },
      "outputs": [
        {
          "ename": "SyntaxError",
          "evalue": "invalid syntax (2538087923.py, line 15)",
          "output_type": "error",
          "traceback": [
            "\u001b[1;36m  Cell \u001b[1;32mIn[1], line 15\u001b[1;36m\u001b[0m\n\u001b[1;33m    def graphical_method(int maxim):\u001b[0m\n\u001b[1;37m                             ^\u001b[0m\n\u001b[1;31mSyntaxError\u001b[0m\u001b[1;31m:\u001b[0m invalid syntax\n"
          ]
        }
      ],
      "source": [
        "import numpy as np\n",
        "\n",
        "class Simplex:\n",
        "    def __init__(self, tableau):\n",
        "        self.tableau = tableau\n",
        "\n",
        "    def solve(self):\n",
        "        # Implementar la lógica para resolver el problema de programación lineal utilizando el método simplex revisado\n",
        "        pass\n",
        "\n",
        "    def display_solution(self):\n",
        "        # Implementar la lógica para mostrar la solución paso a paso\n",
        "        pass\n",
        "\n",
        "    \n",
        "\n",
        "\n",
        "    def graphical_method(self, maxim):\n",
        "        # Implementar el método gráfico para problemas de dos variables\n",
        "        form = 0\n",
        "        i = -1\n",
        "        j = -1\n",
        "        if maxim == 0:\n",
        "          while(form <= resultado):\n",
        "            i = i + 1\n",
        "            form = funcion(i, 0)\n",
        "\n",
        "          form = 0\n",
        "          while(form <= resultado):\n",
        "            j = j + 1\n",
        "            form = funcion(0, j)\n",
        "          \n",
        "          i = i - 1\n",
        "          j = j - 1 \n",
        "          \n",
        "          return i, j\n",
        "        elif maxim == 1:\n",
        "            return 1\n",
        "        pass\n",
        "\n",
        "    def sensitivity_analysis(self):\n",
        "        # Implementar el análisis de sensibilidad\n",
        "        pass\n",
        "\n",
        "# Ejemplo de uso\n",
        "if __name__ == \"__main__\":\n",
        "    resultado = 18\n",
        "    maxim = 0\n",
        "    # Crear un objeto Simplex con el tableau del problema\n",
        "    tableau = np.array([[1, -1, 1, 0, 0, 4],\n",
        "                        [2,  3, 0, 1, 0, 12],\n",
        "                        [3,  1, 0, 0, 1, 18],\n",
        "                        [-4, -3, 0, 0, 0, 0]])  # El tableau debe estar en forma aumentada\n",
        "    simplex_solver = Simplex(tableau)\n",
        "\n",
        "    # Resolver el problema de programación lineal\n",
        "    solution = simplex_solver.solve()\n",
        "\n",
        "    # Mostrar la solución paso a paso\n",
        "    simplex_solver.display_solution()\n",
        "\n",
        "    # Realizar el método gráfico (solo para problemas con dos variables)\n",
        "    x1, x2 = simplex_solver.graphical_method(maxim)\n",
        "\n",
        "    # Realizar el análisis de sensibilidad\n",
        "    simplex_solver.sensitivity_analysis()\n",
        "\n",
        "    grafico(resultado, x1, x2)\n",
        "    print(x1, x2)\n",
        "\n"
      ]
    },
    {
      "cell_type": "code",
      "execution_count": null,
      "metadata": {},
      "outputs": [],
      "source": [
        "def funcion(x1, x2):\n",
        "  return 3 * x1 + 5 * x2"
      ]
    },
    {
      "cell_type": "code",
      "execution_count": null,
      "metadata": {},
      "outputs": [],
      "source": [
        "import numpy as np\n",
        "import matplotlib.pyplot as plt\n",
        "\n",
        "\n",
        "def grafico(resultado, x1, x2):\n",
        "  a, b, c = 3, 2, 5\n",
        "\n",
        "  x = np.linspace(0, x1, 100)   \n",
        "\n",
        "  y = (resultado - a * x) / b\n",
        "  z = (resultado - a * x) / c\n",
        "  z2 = ((resultado + 4) - a * x) / c\n",
        "\n",
        "\n",
        "  # Plot the line\n",
        "  \n",
        "  fig, ax = plt.subplots()\n",
        "  ax.plot(x, y, label=f\"{a}x + {b}y = {resultado}\")\n",
        "  ax.plot(x, z, label=f\"{a}x + {c}z = {resultado}\")\n",
        "  ax.plot(x, z2, label=f\"{a}x + {c}z = {resultado + 4}\")\n",
        "  ax.axvline(4, color='red', linestyle='--', label='x = 4')\n",
        "  ax.axhline(6, color='red', linestyle='--', label='y = 6')\n",
        "\n",
        "  plt.xlabel('x')\n",
        "  plt.ylabel('y')\n",
        "  plt.title(f\"Grafico de {a}x + {b}y = {resultado}\")\n",
        "  plt.grid(True)\n",
        "  plt.legend()\n",
        "  plt.show()"
      ]
    }
  ],
  "metadata": {
    "colab": {
      "authorship_tag": "ABX9TyPoRmIJ1BsSHCtAMIaUew6B",
      "include_colab_link": true,
      "provenance": []
    },
    "kernelspec": {
      "display_name": "Python 3",
      "name": "python3"
    },
    "language_info": {
      "name": "python"
    }
  },
  "nbformat": 4,
  "nbformat_minor": 0
}
