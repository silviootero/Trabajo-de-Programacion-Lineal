{
  "nbformat": 4,
  "nbformat_minor": 0,
  "metadata": {
    "colab": {
      "provenance": [],
      "authorship_tag": "ABX9TyPoRmIJ1BsSHCtAMIaUew6B",
      "include_colab_link": true
    },
    "kernelspec": {
      "name": "python3",
      "display_name": "Python 3"
    },
    "language_info": {
      "name": "python"
    }
  },
  "cells": [
    {
      "cell_type": "markdown",
      "metadata": {
        "id": "view-in-github",
        "colab_type": "text"
      },
      "source": [
        "<a href=\"https://colab.research.google.com/github/silviootero/Trabajo-de-Programacion-Lineal/blob/main/M%C3%A9todo_Simplex_revisado.ipynb\" target=\"_parent\"><img src=\"https://colab.research.google.com/assets/colab-badge.svg\" alt=\"Open In Colab\"/></a>"
      ]
    },
    {
      "cell_type": "code",
      "execution_count": null,
      "metadata": {
        "id": "1eFjUoKBtIU3"
      },
      "outputs": [],
      "source": [
        "import numpy as np\n",
        "\n",
        "class Simplex:\n",
        "    def __init__(self, tableau):\n",
        "        self.tableau = tableau\n",
        "\n",
        "    def solve(self):\n",
        "        # Implementar la lógica para resolver el problema de programación lineal utilizando el método simplex revisado\n",
        "        pass\n",
        "\n",
        "    def display_solution(self):\n",
        "        # Implementar la lógica para mostrar la solución paso a paso\n",
        "        pass\n",
        "\n",
        "    def graphical_method(self):\n",
        "        # Implementar el método gráfico para problemas de dos variables\n",
        "        pass\n",
        "\n",
        "    def sensitivity_analysis(self):\n",
        "        # Implementar el análisis de sensibilidad\n",
        "        pass\n",
        "\n",
        "# Ejemplo de uso\n",
        "if __name__ == \"__main__\":\n",
        "    # Crear un objeto Simplex con el tableau del problema\n",
        "    tableau = np.array([[1, -1, 1, 0, 0, 4],\n",
        "                        [2,  3, 0, 1, 0, 12],\n",
        "                        [3,  1, 0, 0, 1, 18],\n",
        "                        [-4, -3, 0, 0, 0, 0]])  # El tableau debe estar en forma aumentada\n",
        "    simplex_solver = Simplex(tableau)\n",
        "\n",
        "    # Resolver el problema de programación lineal\n",
        "    solution = simplex_solver.solve()\n",
        "\n",
        "    # Mostrar la solución paso a paso\n",
        "    simplex_solver.display_solution()\n",
        "\n",
        "    # Realizar el método gráfico (solo para problemas con dos variables)\n",
        "    simplex_solver.graphical_method()\n",
        "\n",
        "    # Realizar el análisis de sensibilidad\n",
        "    simplex_solver.sensitivity_analysis()\n"
      ]
    }
  ]
}